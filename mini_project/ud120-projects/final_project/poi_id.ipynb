{
 "cells": [
  {
   "cell_type": "code",
   "execution_count": 2,
   "metadata": {},
   "outputs": [],
   "source": [
    "#!/usr/bin/python\n",
    "\n",
    "import sys\n",
    "import pickle\n",
    "import os\n",
    "import pandas as pd\n",
    "import sklearn\n",
    "import numpy as np\n",
    "sys.path.append(os.path.abspath((\"../tools/\")))\n",
    "\n",
    "from feature_format import featureFormat, targetFeatureSplit\n",
    "from tester import dump_classifier_and_data"
   ]
  },
  {
   "cell_type": "code",
   "execution_count": 3,
   "metadata": {},
   "outputs": [],
   "source": [
    "### Task 1: Select what features you'll use.\n",
    "### features_list is a list of strings, each of which is a feature name.\n",
    "### The first feature must be \"poi\".\n",
    "features_list = ['poi','salary'] # You will need to use more features\n",
    "\n",
    "### Load the dictionary containing the dataset\n",
    "with open(\"final_project_dataset.pkl\", \"rb\") as data_file:\n",
    "    data_dict = pickle.load(data_file)"
   ]
  },
  {
   "cell_type": "code",
   "execution_count": 4,
   "metadata": {},
   "outputs": [],
   "source": [
    "### Task 2: Remove outliers\n",
    "### Task 3: Create new feature(s)\n",
    "### Store to my_dataset for easy export below.\n",
    "my_dataset = data_dict\n",
    "\n",
    "### Extract features and labels from dataset for local testing\n",
    "data = featureFormat(my_dataset, features_list, sort_keys = True)\n",
    "labels, features = targetFeatureSplit(data)"
   ]
  },
  {
   "cell_type": "code",
   "execution_count": 5,
   "metadata": {},
   "outputs": [
    {
     "name": "stdout",
     "output_type": "stream",
     "text": [
      "0          METTS MARK\n",
      "1       BAXTER JOHN C\n",
      "2      ELLIOTT STEVEN\n",
      "3    CORDES WILLIAM R\n",
      "4      HANNON KEVIN P\n",
      "dtype: object\n",
      "   salary to_messages deferral_payments total_payments loan_advances    bonus  \\\n",
      "0  365788         807               NaN        1061827           NaN   600000   \n",
      "1  267102         NaN           1295738        5634343           NaN  1200000   \n",
      "2  170941         NaN               NaN         211725           NaN   350000   \n",
      "3     NaN         764               NaN            NaN           NaN      NaN   \n",
      "4  243293        1045               NaN         288682           NaN  1500000   \n",
      "\n",
      "              email_address restricted_stock_deferred deferred_income  \\\n",
      "0      mark.metts@enron.com                       NaN             NaN   \n",
      "1                       NaN                       NaN        -1386055   \n",
      "2  steven.elliott@enron.com                       NaN         -400729   \n",
      "3     bill.cordes@enron.com                       NaN             NaN   \n",
      "4    kevin.hannon@enron.com                       NaN        -3117011   \n",
      "\n",
      "  total_stock_value  ... from_poi_to_this_person exercised_stock_options  \\\n",
      "0            585062  ...                      38                     NaN   \n",
      "1          10623258  ...                     NaN                 6680544   \n",
      "2           6678735  ...                     NaN                 4890344   \n",
      "3           1038185  ...                      10                  651850   \n",
      "4           6391065  ...                      32                 5538001   \n",
      "\n",
      "  from_messages    other from_this_person_to_poi    poi  long_term_incentive  \\\n",
      "0            29     1740                       1  False                  NaN   \n",
      "1           NaN  2660303                     NaN  False              1586055   \n",
      "2           NaN    12961                     NaN  False                  NaN   \n",
      "3            12      NaN                       0  False                  NaN   \n",
      "4            32    11350                      21   True              1617011   \n",
      "\n",
      "  shared_receipt_with_poi restricted_stock director_fees  \n",
      "0                     702           585062           NaN  \n",
      "1                     NaN          3942714           NaN  \n",
      "2                     NaN          1788391           NaN  \n",
      "3                      58           386335           NaN  \n",
      "4                    1035           853064           NaN  \n",
      "\n",
      "[5 rows x 21 columns]\n"
     ]
    }
   ],
   "source": [
    "# Change data dictionary to pandas DataFrame\n",
    "df = pd.DataFrame.from_records(list(data_dict.values()))\n",
    "persons = pd.Series(list(data_dict.keys()))\n",
    "\n",
    "print(persons.head())\n",
    "print(df.head())"
   ]
  },
  {
   "cell_type": "code",
   "execution_count": 6,
   "metadata": {},
   "outputs": [
    {
     "name": "stdout",
     "output_type": "stream",
     "text": [
      "<class 'pandas.core.frame.DataFrame'>\n",
      "RangeIndex: 146 entries, 0 to 145\n",
      "Data columns (total 21 columns):\n",
      " #   Column                     Non-Null Count  Dtype \n",
      "---  ------                     --------------  ----- \n",
      " 0   salary                     146 non-null    object\n",
      " 1   to_messages                146 non-null    object\n",
      " 2   deferral_payments          146 non-null    object\n",
      " 3   total_payments             146 non-null    object\n",
      " 4   loan_advances              146 non-null    object\n",
      " 5   bonus                      146 non-null    object\n",
      " 6   email_address              146 non-null    object\n",
      " 7   restricted_stock_deferred  146 non-null    object\n",
      " 8   deferred_income            146 non-null    object\n",
      " 9   total_stock_value          146 non-null    object\n",
      " 10  expenses                   146 non-null    object\n",
      " 11  from_poi_to_this_person    146 non-null    object\n",
      " 12  exercised_stock_options    146 non-null    object\n",
      " 13  from_messages              146 non-null    object\n",
      " 14  other                      146 non-null    object\n",
      " 15  from_this_person_to_poi    146 non-null    object\n",
      " 16  poi                        146 non-null    bool  \n",
      " 17  long_term_incentive        146 non-null    object\n",
      " 18  shared_receipt_with_poi    146 non-null    object\n",
      " 19  restricted_stock           146 non-null    object\n",
      " 20  director_fees              146 non-null    object\n",
      "dtypes: bool(1), object(20)\n",
      "memory usage: 23.1+ KB\n"
     ]
    }
   ],
   "source": [
    "# dataframe dimension\n",
    "df.shape\n",
    "\n",
    "df.info()"
   ]
  },
  {
   "cell_type": "code",
   "execution_count": 7,
   "metadata": {},
   "outputs": [
    {
     "name": "stdout",
     "output_type": "stream",
     "text": [
      "dict_keys(['METTS MARK', 'BAXTER JOHN C', 'ELLIOTT STEVEN', 'CORDES WILLIAM R', 'HANNON KEVIN P', 'MORDAUNT KRISTINA M', 'MEYER ROCKFORD G', 'MCMAHON JEFFREY', 'HAEDICKE MARK E', 'PIPER GREGORY F', 'HUMPHREY GENE E', 'NOLES JAMES L', 'BLACHMAN JEREMY M', 'SUNDE MARTIN', 'GIBBS DANA R', 'LOWRY CHARLES P', 'COLWELL WESLEY', 'MULLER MARK S', 'JACKSON CHARLENE R', 'WESTFAHL RICHARD K', 'WALTERS GARETH W', 'WALLS JR ROBERT H', 'KITCHEN LOUISE', 'CHAN RONNIE', 'BELFER ROBERT', 'SHANKMAN JEFFREY A', 'WODRASKA JOHN', 'BERGSIEKER RICHARD P', 'URQUHART JOHN A', 'BIBI PHILIPPE A', 'RIEKER PAULA H', 'WHALEY DAVID A', 'BECK SALLY W', 'HAUG DAVID L', 'ECHOLS JOHN B', 'MENDELSOHN JOHN', 'HICKERSON GARY J', 'CLINE KENNETH W', 'LEWIS RICHARD', 'HAYES ROBERT E', 'KOPPER MICHAEL J', 'LEFF DANIEL P', 'LAVORATO JOHN J', 'BERBERIAN DAVID', 'DETMERING TIMOTHY J', 'WAKEHAM JOHN', 'POWERS WILLIAM', 'GOLD JOSEPH', 'BANNANTINE JAMES M', 'DUNCAN JOHN H', 'SHAPIRO RICHARD S', 'SHERRIFF JOHN R', 'SHELBY REX', 'LEMAISTRE CHARLES', 'DEFFNER JOSEPH M', 'KISHKILL JOSEPH G', 'WHALLEY LAWRENCE G', 'MCCONNELL MICHAEL S', 'PIRO JIM', 'DELAINEY DAVID W', 'SULLIVAN-SHAKLOVITZ COLLEEN', 'WROBEL BRUCE', 'LINDHOLM TOD A', 'MEYER JEROME J', 'LAY KENNETH L', 'BUTTS ROBERT H', 'OLSON CINDY K', 'MCDONALD REBECCA', 'CUMBERLAND MICHAEL S', 'GAHN ROBERT S', 'BADUM JAMES P', 'HERMANN ROBERT J', 'FALLON JAMES B', 'GATHMANN WILLIAM D', 'HORTON STANLEY C', 'BOWEN JR RAYMOND M', 'GILLIS JOHN', 'FITZGERALD JAY L', 'MORAN MICHAEL P', 'REDMOND BRIAN L', 'BAZELIDES PHILIP J', 'BELDEN TIMOTHY N', 'DIMICHELE RICHARD G', 'DURAN WILLIAM D', 'THORN TERENCE H', 'FASTOW ANDREW S', 'FOY JOE', 'CALGER CHRISTOPHER F', 'RICE KENNETH D', 'KAMINSKI WINCENTY J', 'LOCKHART EUGENE E', 'COX DAVID', 'OVERDYKE JR JERE C', 'PEREIRA PAULO V. FERRAZ', 'STABLER FRANK', 'SKILLING JEFFREY K', 'BLAKE JR. NORMAN P', 'SHERRICK JEFFREY B', 'PRENTICE JAMES', 'GRAY RODNEY', 'THE TRAVEL AGENCY IN THE PARK', 'UMANOFF ADAM S', 'KEAN STEVEN J', 'TOTAL', 'FOWLER PEGGY', 'WASAFF GEORGE', 'WHITE JR THOMAS E', 'CHRISTODOULOU DIOMEDES', 'ALLEN PHILLIP K', 'SHARP VICTORIA T', 'JAEDICKE ROBERT', 'WINOKUR JR. HERBERT S', 'BROWN MICHAEL', 'MCCLELLAN GEORGE', 'HUGHES JAMES A', 'REYNOLDS LAWRENCE', 'PICKERING MARK R', 'BHATNAGAR SANJAY', 'CARTER REBECCA C', 'BUCHANAN HAROLD G', 'YEAP SOON', 'MURRAY JULIA H', 'GARLAND C KEVIN', 'DODSON KEITH', 'YEAGER F SCOTT', 'HIRKO JOSEPH', 'DIETRICH JANET R', 'DERRICK JR. JAMES V', 'FREVERT MARK A', 'PAI LOU L', 'HAYSLETT RODERICK J', 'BAY FRANKLIN R', 'MCCARTY DANNY J', 'FUGH JOHN L', 'SCRIMSHAW MATTHEW', 'KOENIG MARK E', 'SAVAGE FRANK', 'IZZO LAWRENCE L', 'TILNEY ELIZABETH A', 'MARTIN AMANDA K', 'BUY RICHARD B', 'GRAMM WENDY L', 'CAUSEY RICHARD A', 'TAYLOR MITCHELL S', 'DONAHUE JR JEFFREY M', 'GLISAN JR BEN F'])\n"
     ]
    }
   ],
   "source": [
    "print(data_dict.keys())"
   ]
  },
  {
   "cell_type": "code",
   "execution_count": 8,
   "metadata": {},
   "outputs": [
    {
     "name": "stdout",
     "output_type": "stream",
     "text": [
      "salary                        51\n",
      "to_messages                   60\n",
      "deferral_payments            107\n",
      "total_payments                21\n",
      "loan_advances                142\n",
      "bonus                         64\n",
      "email_address                 35\n",
      "restricted_stock_deferred    128\n",
      "deferred_income               97\n",
      "total_stock_value             20\n",
      "expenses                      51\n",
      "from_poi_to_this_person       60\n",
      "exercised_stock_options       44\n",
      "from_messages                 60\n",
      "other                         53\n",
      "from_this_person_to_poi       60\n",
      "poi                            0\n",
      "long_term_incentive           80\n",
      "shared_receipt_with_poi       60\n",
      "restricted_stock              36\n",
      "director_fees                129\n",
      "dtype: int64\n"
     ]
    }
   ],
   "source": [
    "# convert to numpy.nan\n",
    "df.replace(to_replace='NaN', value=np.nan, inplace=True)\n",
    "\n",
    "# count number of nan for columns\n",
    "print(df.isnull().sum())"
   ]
  },
  {
   "cell_type": "code",
   "execution_count": 9,
   "metadata": {},
   "outputs": [],
   "source": [
    "# remove column from df if null counter > 65\n",
    "for column, series in df.iteritems():\n",
    "    if series.isnull().sum() > 65:\n",
    "        df.drop(column, axis=1, inplace=True)\n",
    "\n",
    "# remove email address column\n",
    "if 'email_address' in list(df.columns.values):\n",
    "    df.drop('email_address', axis=1, inplace=True)"
   ]
  },
  {
   "cell_type": "code",
   "execution_count": 10,
   "metadata": {},
   "outputs": [
    {
     "name": "stdout",
     "output_type": "stream",
     "text": [
      "<class 'pandas.core.frame.DataFrame'>\n",
      "RangeIndex: 146 entries, 0 to 145\n",
      "Data columns (total 14 columns):\n",
      " #   Column                   Non-Null Count  Dtype  \n",
      "---  ------                   --------------  -----  \n",
      " 0   salary                   95 non-null     float64\n",
      " 1   to_messages              86 non-null     float64\n",
      " 2   total_payments           125 non-null    float64\n",
      " 3   bonus                    82 non-null     float64\n",
      " 4   total_stock_value        126 non-null    float64\n",
      " 5   expenses                 95 non-null     float64\n",
      " 6   from_poi_to_this_person  86 non-null     float64\n",
      " 7   exercised_stock_options  102 non-null    float64\n",
      " 8   from_messages            86 non-null     float64\n",
      " 9   other                    93 non-null     float64\n",
      " 10  from_this_person_to_poi  86 non-null     float64\n",
      " 11  poi                      146 non-null    bool   \n",
      " 12  shared_receipt_with_poi  86 non-null     float64\n",
      " 13  restricted_stock         110 non-null    float64\n",
      "dtypes: bool(1), float64(13)\n",
      "memory usage: 15.1 KB\n"
     ]
    }
   ],
   "source": [
    "df.info()"
   ]
  },
  {
   "cell_type": "code",
   "execution_count": 11,
   "metadata": {},
   "outputs": [
    {
     "name": "stdout",
     "output_type": "stream",
     "text": [
      "salary                     0\n",
      "to_messages                0\n",
      "total_payments             0\n",
      "bonus                      0\n",
      "total_stock_value          0\n",
      "expenses                   0\n",
      "from_poi_to_this_person    0\n",
      "exercised_stock_options    0\n",
      "from_messages              0\n",
      "other                      0\n",
      "from_this_person_to_poi    0\n",
      "poi                        0\n",
      "shared_receipt_with_poi    0\n",
      "restricted_stock           0\n",
      "dtype: int64\n",
      "     salary  to_messages  total_payments      bonus  total_stock_value  \\\n",
      "0  365788.0        807.0       1061827.0   600000.0           585062.0   \n",
      "1  267102.0          0.0       5634343.0  1200000.0         10623258.0   \n",
      "2  170941.0          0.0        211725.0   350000.0          6678735.0   \n",
      "3       0.0        764.0             0.0        0.0          1038185.0   \n",
      "4  243293.0       1045.0        288682.0  1500000.0          6391065.0   \n",
      "\n",
      "   expenses  from_poi_to_this_person  exercised_stock_options  from_messages  \\\n",
      "0   94299.0                     38.0                      0.0           29.0   \n",
      "1   11200.0                      0.0                6680544.0            0.0   \n",
      "2   78552.0                      0.0                4890344.0            0.0   \n",
      "3       0.0                     10.0                 651850.0           12.0   \n",
      "4   34039.0                     32.0                5538001.0           32.0   \n",
      "\n",
      "       other  from_this_person_to_poi    poi  shared_receipt_with_poi  \\\n",
      "0     1740.0                      1.0  False                    702.0   \n",
      "1  2660303.0                      0.0  False                      0.0   \n",
      "2    12961.0                      0.0  False                      0.0   \n",
      "3        0.0                      0.0  False                     58.0   \n",
      "4    11350.0                     21.0   True                   1035.0   \n",
      "\n",
      "   restricted_stock  \n",
      "0          585062.0  \n",
      "1         3942714.0  \n",
      "2         1788391.0  \n",
      "3          386335.0  \n",
      "4          853064.0  \n"
     ]
    },
    {
     "data": {
      "text/html": [
       "<div>\n",
       "<style scoped>\n",
       "    .dataframe tbody tr th:only-of-type {\n",
       "        vertical-align: middle;\n",
       "    }\n",
       "\n",
       "    .dataframe tbody tr th {\n",
       "        vertical-align: top;\n",
       "    }\n",
       "\n",
       "    .dataframe thead th {\n",
       "        text-align: right;\n",
       "    }\n",
       "</style>\n",
       "<table border=\"1\" class=\"dataframe\">\n",
       "  <thead>\n",
       "    <tr style=\"text-align: right;\">\n",
       "      <th></th>\n",
       "      <th>salary</th>\n",
       "      <th>to_messages</th>\n",
       "      <th>total_payments</th>\n",
       "      <th>bonus</th>\n",
       "      <th>total_stock_value</th>\n",
       "      <th>expenses</th>\n",
       "      <th>from_poi_to_this_person</th>\n",
       "      <th>exercised_stock_options</th>\n",
       "      <th>from_messages</th>\n",
       "      <th>other</th>\n",
       "      <th>from_this_person_to_poi</th>\n",
       "      <th>shared_receipt_with_poi</th>\n",
       "      <th>restricted_stock</th>\n",
       "    </tr>\n",
       "  </thead>\n",
       "  <tbody>\n",
       "    <tr>\n",
       "      <th>count</th>\n",
       "      <td>1.460000e+02</td>\n",
       "      <td>146.000000</td>\n",
       "      <td>1.460000e+02</td>\n",
       "      <td>1.460000e+02</td>\n",
       "      <td>1.460000e+02</td>\n",
       "      <td>1.460000e+02</td>\n",
       "      <td>146.000000</td>\n",
       "      <td>1.460000e+02</td>\n",
       "      <td>146.000000</td>\n",
       "      <td>1.460000e+02</td>\n",
       "      <td>146.000000</td>\n",
       "      <td>146.000000</td>\n",
       "      <td>1.460000e+02</td>\n",
       "    </tr>\n",
       "    <tr>\n",
       "      <th>mean</th>\n",
       "      <td>3.658114e+05</td>\n",
       "      <td>1221.589041</td>\n",
       "      <td>4.350622e+06</td>\n",
       "      <td>1.333474e+06</td>\n",
       "      <td>5.846018e+06</td>\n",
       "      <td>7.074827e+04</td>\n",
       "      <td>38.226027</td>\n",
       "      <td>4.182736e+06</td>\n",
       "      <td>358.602740</td>\n",
       "      <td>5.854318e+05</td>\n",
       "      <td>24.287671</td>\n",
       "      <td>692.986301</td>\n",
       "      <td>1.749257e+06</td>\n",
       "    </tr>\n",
       "    <tr>\n",
       "      <th>std</th>\n",
       "      <td>2.203575e+06</td>\n",
       "      <td>2226.770637</td>\n",
       "      <td>2.693448e+07</td>\n",
       "      <td>8.094029e+06</td>\n",
       "      <td>3.624681e+07</td>\n",
       "      <td>4.327163e+05</td>\n",
       "      <td>73.901124</td>\n",
       "      <td>2.607040e+07</td>\n",
       "      <td>1441.259868</td>\n",
       "      <td>3.682345e+06</td>\n",
       "      <td>79.278206</td>\n",
       "      <td>1072.969492</td>\n",
       "      <td>1.089995e+07</td>\n",
       "    </tr>\n",
       "    <tr>\n",
       "      <th>min</th>\n",
       "      <td>0.000000e+00</td>\n",
       "      <td>0.000000</td>\n",
       "      <td>0.000000e+00</td>\n",
       "      <td>0.000000e+00</td>\n",
       "      <td>-4.409300e+04</td>\n",
       "      <td>0.000000e+00</td>\n",
       "      <td>0.000000</td>\n",
       "      <td>0.000000e+00</td>\n",
       "      <td>0.000000</td>\n",
       "      <td>0.000000e+00</td>\n",
       "      <td>0.000000</td>\n",
       "      <td>0.000000</td>\n",
       "      <td>-2.604490e+06</td>\n",
       "    </tr>\n",
       "    <tr>\n",
       "      <th>25%</th>\n",
       "      <td>0.000000e+00</td>\n",
       "      <td>0.000000</td>\n",
       "      <td>9.394475e+04</td>\n",
       "      <td>0.000000e+00</td>\n",
       "      <td>2.288695e+05</td>\n",
       "      <td>0.000000e+00</td>\n",
       "      <td>0.000000</td>\n",
       "      <td>0.000000e+00</td>\n",
       "      <td>0.000000</td>\n",
       "      <td>0.000000e+00</td>\n",
       "      <td>0.000000</td>\n",
       "      <td>0.000000</td>\n",
       "      <td>8.115000e+03</td>\n",
       "    </tr>\n",
       "    <tr>\n",
       "      <th>50%</th>\n",
       "      <td>2.105960e+05</td>\n",
       "      <td>289.000000</td>\n",
       "      <td>9.413595e+05</td>\n",
       "      <td>3.000000e+05</td>\n",
       "      <td>9.659550e+05</td>\n",
       "      <td>2.018200e+04</td>\n",
       "      <td>2.500000</td>\n",
       "      <td>6.082935e+05</td>\n",
       "      <td>16.500000</td>\n",
       "      <td>9.595000e+02</td>\n",
       "      <td>0.000000</td>\n",
       "      <td>102.500000</td>\n",
       "      <td>3.605280e+05</td>\n",
       "    </tr>\n",
       "    <tr>\n",
       "      <th>75%</th>\n",
       "      <td>2.708505e+05</td>\n",
       "      <td>1585.750000</td>\n",
       "      <td>1.968287e+06</td>\n",
       "      <td>8.000000e+05</td>\n",
       "      <td>2.319991e+06</td>\n",
       "      <td>5.374075e+04</td>\n",
       "      <td>40.750000</td>\n",
       "      <td>1.714221e+06</td>\n",
       "      <td>51.250000</td>\n",
       "      <td>1.506065e+05</td>\n",
       "      <td>13.750000</td>\n",
       "      <td>893.500000</td>\n",
       "      <td>8.145280e+05</td>\n",
       "    </tr>\n",
       "    <tr>\n",
       "      <th>max</th>\n",
       "      <td>2.670423e+07</td>\n",
       "      <td>15149.000000</td>\n",
       "      <td>3.098866e+08</td>\n",
       "      <td>9.734362e+07</td>\n",
       "      <td>4.345095e+08</td>\n",
       "      <td>5.235198e+06</td>\n",
       "      <td>528.000000</td>\n",
       "      <td>3.117640e+08</td>\n",
       "      <td>14368.000000</td>\n",
       "      <td>4.266759e+07</td>\n",
       "      <td>609.000000</td>\n",
       "      <td>5521.000000</td>\n",
       "      <td>1.303223e+08</td>\n",
       "    </tr>\n",
       "  </tbody>\n",
       "</table>\n",
       "</div>"
      ],
      "text/plain": [
       "             salary   to_messages  total_payments         bonus  \\\n",
       "count  1.460000e+02    146.000000    1.460000e+02  1.460000e+02   \n",
       "mean   3.658114e+05   1221.589041    4.350622e+06  1.333474e+06   \n",
       "std    2.203575e+06   2226.770637    2.693448e+07  8.094029e+06   \n",
       "min    0.000000e+00      0.000000    0.000000e+00  0.000000e+00   \n",
       "25%    0.000000e+00      0.000000    9.394475e+04  0.000000e+00   \n",
       "50%    2.105960e+05    289.000000    9.413595e+05  3.000000e+05   \n",
       "75%    2.708505e+05   1585.750000    1.968287e+06  8.000000e+05   \n",
       "max    2.670423e+07  15149.000000    3.098866e+08  9.734362e+07   \n",
       "\n",
       "       total_stock_value      expenses  from_poi_to_this_person  \\\n",
       "count       1.460000e+02  1.460000e+02               146.000000   \n",
       "mean        5.846018e+06  7.074827e+04                38.226027   \n",
       "std         3.624681e+07  4.327163e+05                73.901124   \n",
       "min        -4.409300e+04  0.000000e+00                 0.000000   \n",
       "25%         2.288695e+05  0.000000e+00                 0.000000   \n",
       "50%         9.659550e+05  2.018200e+04                 2.500000   \n",
       "75%         2.319991e+06  5.374075e+04                40.750000   \n",
       "max         4.345095e+08  5.235198e+06               528.000000   \n",
       "\n",
       "       exercised_stock_options  from_messages         other  \\\n",
       "count             1.460000e+02     146.000000  1.460000e+02   \n",
       "mean              4.182736e+06     358.602740  5.854318e+05   \n",
       "std               2.607040e+07    1441.259868  3.682345e+06   \n",
       "min               0.000000e+00       0.000000  0.000000e+00   \n",
       "25%               0.000000e+00       0.000000  0.000000e+00   \n",
       "50%               6.082935e+05      16.500000  9.595000e+02   \n",
       "75%               1.714221e+06      51.250000  1.506065e+05   \n",
       "max               3.117640e+08   14368.000000  4.266759e+07   \n",
       "\n",
       "       from_this_person_to_poi  shared_receipt_with_poi  restricted_stock  \n",
       "count               146.000000               146.000000      1.460000e+02  \n",
       "mean                 24.287671               692.986301      1.749257e+06  \n",
       "std                  79.278206              1072.969492      1.089995e+07  \n",
       "min                   0.000000                 0.000000     -2.604490e+06  \n",
       "25%                   0.000000                 0.000000      8.115000e+03  \n",
       "50%                   0.000000               102.500000      3.605280e+05  \n",
       "75%                  13.750000               893.500000      8.145280e+05  \n",
       "max                 609.000000              5521.000000      1.303223e+08  "
      ]
     },
     "execution_count": 11,
     "metadata": {},
     "output_type": "execute_result"
    }
   ],
   "source": [
    "# Impute the missing values\n",
    "df_imp = df.replace(to_replace=np.nan, value=0)\n",
    "df_imp = df.fillna(0).copy(deep=True)\n",
    "df_imp.columns = list(df.columns.values)\n",
    "\n",
    "print(df_imp.isnull().sum())\n",
    "print(df_imp.head())\n",
    "\n",
    "df_imp.describe()"
   ]
  },
  {
   "cell_type": "code",
   "execution_count": 12,
   "metadata": {},
   "outputs": [
    {
     "name": "stdout",
     "output_type": "stream",
     "text": [
      "100\n"
     ]
    }
   ],
   "source": [
    "# drop row for 'THE TRAVEL AGENCY IN THE PARK'\n",
    "park_index = list(data_dict.keys()).index('THE TRAVEL AGENCY IN THE PARK')\n",
    "print(park_index)\n",
    "df_imp_sub = df_imp.drop(df_imp.index[[park_index]])"
   ]
  },
  {
   "cell_type": "code",
   "execution_count": 13,
   "metadata": {},
   "outputs": [
    {
     "data": {
      "text/plain": [
       "salary                     0\n",
       "to_messages                0\n",
       "total_payments             0\n",
       "bonus                      0\n",
       "total_stock_value          0\n",
       "expenses                   0\n",
       "from_poi_to_this_person    0\n",
       "exercised_stock_options    0\n",
       "from_messages              0\n",
       "other                      0\n",
       "from_this_person_to_poi    0\n",
       "poi                        0\n",
       "shared_receipt_with_poi    0\n",
       "restricted_stock           0\n",
       "dtype: int64"
      ]
     },
     "execution_count": 13,
     "metadata": {},
     "output_type": "execute_result"
    }
   ],
   "source": [
    "df_imp_sub.isnull().sum()"
   ]
  },
  {
   "cell_type": "code",
   "execution_count": 14,
   "metadata": {},
   "outputs": [
    {
     "name": "stdout",
     "output_type": "stream",
     "text": [
      "{'salary': 'NaN', 'to_messages': 'NaN', 'deferral_payments': 'NaN', 'total_payments': 'NaN', 'loan_advances': 'NaN', 'bonus': 'NaN', 'email_address': 'NaN', 'restricted_stock_deferred': 'NaN', 'deferred_income': 'NaN', 'total_stock_value': 'NaN', 'expenses': 'NaN', 'from_poi_to_this_person': 'NaN', 'exercised_stock_options': 'NaN', 'from_messages': 'NaN', 'other': 'NaN', 'from_this_person_to_poi': 'NaN', 'poi': False, 'long_term_incentive': 'NaN', 'shared_receipt_with_poi': 'NaN', 'restricted_stock': 'NaN', 'director_fees': 'NaN'}\n"
     ]
    }
   ],
   "source": [
    "lockhart_index = list(data_dict.keys()).index('LOCKHART EUGENE E')\n",
    "print(data_dict['LOCKHART EUGENE E'])\n",
    "df_imp_sub = df_imp.drop(df_imp.index[[lockhart_index]])\n"
   ]
  },
  {
   "cell_type": "code",
   "execution_count": 15,
   "metadata": {},
   "outputs": [],
   "source": [
    "# Rename dataframe name after cleaning up NaN and outlier\n",
    "enron_df = df_imp_sub"
   ]
  },
  {
   "cell_type": "code",
   "execution_count": 16,
   "metadata": {},
   "outputs": [
    {
     "data": {
      "image/png": "[encoded data removed]",
      "text/plain": [
       "<Figure size 432x288 with 1 Axes>"
      ]
     },
     "metadata": {
      "needs_background": "light"
     },
     "output_type": "display_data"
    }
   ],
   "source": [
    "# Graph for features\n",
    "\n",
    "import matplotlib.pyplot as plt\n",
    "\n",
    "plt.scatter(enron_df['salary'], enron_df['total_payments'])\n",
    "plt.xlabel(\"salary\")\n",
    "plt.ylabel(\"total_payments\")\n",
    "plt.show()"
   ]
  },
  {
   "cell_type": "code",
   "execution_count": 17,
   "metadata": {},
   "outputs": [
    {
     "data": {
      "image/png": "[encoded data removed]",
      "text/plain": [
       "<Figure size 432x288 with 1 Axes>"
      ]
     },
     "metadata": {
      "needs_background": "light"
     },
     "output_type": "display_data"
    }
   ],
   "source": [
    "plt.scatter(enron_df['salary'], enron_df['total_stock_value'])\n",
    "plt.xlabel(\"salary\")\n",
    "plt.ylabel(\"total_stock_value\")\n",
    "plt.show()"
   ]
  },
  {
   "cell_type": "code",
   "execution_count": 18,
   "metadata": {},
   "outputs": [
    {
     "data": {
      "text/html": [
       "<div>\n",
       "<style scoped>\n",
       "    .dataframe tbody tr th:only-of-type {\n",
       "        vertical-align: middle;\n",
       "    }\n",
       "\n",
       "    .dataframe tbody tr th {\n",
       "        vertical-align: top;\n",
       "    }\n",
       "\n",
       "    .dataframe thead th {\n",
       "        text-align: right;\n",
       "    }\n",
       "</style>\n",
       "<table border=\"1\" class=\"dataframe\">\n",
       "  <thead>\n",
       "    <tr style=\"text-align: right;\">\n",
       "      <th></th>\n",
       "      <th>salary</th>\n",
       "      <th>to_messages</th>\n",
       "      <th>total_payments</th>\n",
       "      <th>bonus</th>\n",
       "      <th>total_stock_value</th>\n",
       "      <th>expenses</th>\n",
       "      <th>from_poi_to_this_person</th>\n",
       "      <th>exercised_stock_options</th>\n",
       "      <th>from_messages</th>\n",
       "      <th>other</th>\n",
       "      <th>from_this_person_to_poi</th>\n",
       "      <th>poi</th>\n",
       "      <th>shared_receipt_with_poi</th>\n",
       "      <th>restricted_stock</th>\n",
       "    </tr>\n",
       "  </thead>\n",
       "  <tbody>\n",
       "  </tbody>\n",
       "</table>\n",
       "</div>"
      ],
      "text/plain": [
       "Empty DataFrame\n",
       "Columns: [salary, to_messages, total_payments, bonus, total_stock_value, expenses, from_poi_to_this_person, exercised_stock_options, from_messages, other, from_this_person_to_poi, poi, shared_receipt_with_poi, restricted_stock]\n",
       "Index: []"
      ]
     },
     "execution_count": 18,
     "metadata": {},
     "output_type": "execute_result"
    }
   ],
   "source": [
    "enron_df[enron_df['total_stock_value'].isnull()]"
   ]
  },
  {
   "cell_type": "code",
   "execution_count": 19,
   "metadata": {},
   "outputs": [],
   "source": [
    "#Create new features 'salary_of_total_payment' and 'salary_of_total_stock_value'\\n\",\n",
    "enron_df['salary_of_total_payments'] = 0.0\n",
    "enron_df['salary_of_total_stock_value'] = 0.0\n",
    "enron_df.loc[enron_df['total_payments'] != 0.0,'salary_of_total_payments'] = enron_df['salary'] / enron_df['total_payments'] * 100\n",
    "enron_df.loc[enron_df['total_stock_value'] != 0.0,'salary_of_total_stock_value'] = enron_df['salary'] / enron_df['total_stock_value'] * 100"
   ]
  },
  {
   "cell_type": "code",
   "execution_count": 20,
   "metadata": {},
   "outputs": [
    {
     "data": {
      "text/html": [
       "<div>\n",
       "<style scoped>\n",
       "    .dataframe tbody tr th:only-of-type {\n",
       "        vertical-align: middle;\n",
       "    }\n",
       "\n",
       "    .dataframe tbody tr th {\n",
       "        vertical-align: top;\n",
       "    }\n",
       "\n",
       "    .dataframe thead th {\n",
       "        text-align: right;\n",
       "    }\n",
       "</style>\n",
       "<table border=\"1\" class=\"dataframe\">\n",
       "  <thead>\n",
       "    <tr style=\"text-align: right;\">\n",
       "      <th></th>\n",
       "      <th>salary</th>\n",
       "      <th>to_messages</th>\n",
       "      <th>total_payments</th>\n",
       "      <th>bonus</th>\n",
       "      <th>total_stock_value</th>\n",
       "      <th>expenses</th>\n",
       "      <th>from_poi_to_this_person</th>\n",
       "      <th>exercised_stock_options</th>\n",
       "      <th>from_messages</th>\n",
       "      <th>other</th>\n",
       "      <th>from_this_person_to_poi</th>\n",
       "      <th>poi</th>\n",
       "      <th>shared_receipt_with_poi</th>\n",
       "      <th>restricted_stock</th>\n",
       "      <th>salary_of_total_payments</th>\n",
       "      <th>salary_of_total_stock_value</th>\n",
       "    </tr>\n",
       "  </thead>\n",
       "  <tbody>\n",
       "    <tr>\n",
       "      <th>0</th>\n",
       "      <td>365788.0</td>\n",
       "      <td>807.0</td>\n",
       "      <td>1061827.0</td>\n",
       "      <td>600000.0</td>\n",
       "      <td>585062.0</td>\n",
       "      <td>94299.0</td>\n",
       "      <td>38.0</td>\n",
       "      <td>0.0</td>\n",
       "      <td>29.0</td>\n",
       "      <td>1740.0</td>\n",
       "      <td>1.0</td>\n",
       "      <td>False</td>\n",
       "      <td>702.0</td>\n",
       "      <td>585062.0</td>\n",
       "      <td>34.448926</td>\n",
       "      <td>62.521237</td>\n",
       "    </tr>\n",
       "    <tr>\n",
       "      <th>1</th>\n",
       "      <td>267102.0</td>\n",
       "      <td>0.0</td>\n",
       "      <td>5634343.0</td>\n",
       "      <td>1200000.0</td>\n",
       "      <td>10623258.0</td>\n",
       "      <td>11200.0</td>\n",
       "      <td>0.0</td>\n",
       "      <td>6680544.0</td>\n",
       "      <td>0.0</td>\n",
       "      <td>2660303.0</td>\n",
       "      <td>0.0</td>\n",
       "      <td>False</td>\n",
       "      <td>0.0</td>\n",
       "      <td>3942714.0</td>\n",
       "      <td>4.740606</td>\n",
       "      <td>2.514313</td>\n",
       "    </tr>\n",
       "    <tr>\n",
       "      <th>2</th>\n",
       "      <td>170941.0</td>\n",
       "      <td>0.0</td>\n",
       "      <td>211725.0</td>\n",
       "      <td>350000.0</td>\n",
       "      <td>6678735.0</td>\n",
       "      <td>78552.0</td>\n",
       "      <td>0.0</td>\n",
       "      <td>4890344.0</td>\n",
       "      <td>0.0</td>\n",
       "      <td>12961.0</td>\n",
       "      <td>0.0</td>\n",
       "      <td>False</td>\n",
       "      <td>0.0</td>\n",
       "      <td>1788391.0</td>\n",
       "      <td>80.737277</td>\n",
       "      <td>2.559482</td>\n",
       "    </tr>\n",
       "    <tr>\n",
       "      <th>3</th>\n",
       "      <td>0.0</td>\n",
       "      <td>764.0</td>\n",
       "      <td>0.0</td>\n",
       "      <td>0.0</td>\n",
       "      <td>1038185.0</td>\n",
       "      <td>0.0</td>\n",
       "      <td>10.0</td>\n",
       "      <td>651850.0</td>\n",
       "      <td>12.0</td>\n",
       "      <td>0.0</td>\n",
       "      <td>0.0</td>\n",
       "      <td>False</td>\n",
       "      <td>58.0</td>\n",
       "      <td>386335.0</td>\n",
       "      <td>0.000000</td>\n",
       "      <td>0.000000</td>\n",
       "    </tr>\n",
       "    <tr>\n",
       "      <th>4</th>\n",
       "      <td>243293.0</td>\n",
       "      <td>1045.0</td>\n",
       "      <td>288682.0</td>\n",
       "      <td>1500000.0</td>\n",
       "      <td>6391065.0</td>\n",
       "      <td>34039.0</td>\n",
       "      <td>32.0</td>\n",
       "      <td>5538001.0</td>\n",
       "      <td>32.0</td>\n",
       "      <td>11350.0</td>\n",
       "      <td>21.0</td>\n",
       "      <td>True</td>\n",
       "      <td>1035.0</td>\n",
       "      <td>853064.0</td>\n",
       "      <td>84.277163</td>\n",
       "      <td>3.806768</td>\n",
       "    </tr>\n",
       "  </tbody>\n",
       "</table>\n",
       "</div>"
      ],
      "text/plain": [
       "     salary  to_messages  total_payments      bonus  total_stock_value  \\\n",
       "0  365788.0        807.0       1061827.0   600000.0           585062.0   \n",
       "1  267102.0          0.0       5634343.0  1200000.0         10623258.0   \n",
       "2  170941.0          0.0        211725.0   350000.0          6678735.0   \n",
       "3       0.0        764.0             0.0        0.0          1038185.0   \n",
       "4  243293.0       1045.0        288682.0  1500000.0          6391065.0   \n",
       "\n",
       "   expenses  from_poi_to_this_person  exercised_stock_options  from_messages  \\\n",
       "0   94299.0                     38.0                      0.0           29.0   \n",
       "1   11200.0                      0.0                6680544.0            0.0   \n",
       "2   78552.0                      0.0                4890344.0            0.0   \n",
       "3       0.0                     10.0                 651850.0           12.0   \n",
       "4   34039.0                     32.0                5538001.0           32.0   \n",
       "\n",
       "       other  from_this_person_to_poi    poi  shared_receipt_with_poi  \\\n",
       "0     1740.0                      1.0  False                    702.0   \n",
       "1  2660303.0                      0.0  False                      0.0   \n",
       "2    12961.0                      0.0  False                      0.0   \n",
       "3        0.0                      0.0  False                     58.0   \n",
       "4    11350.0                     21.0   True                   1035.0   \n",
       "\n",
       "   restricted_stock  salary_of_total_payments  salary_of_total_stock_value  \n",
       "0          585062.0                 34.448926                    62.521237  \n",
       "1         3942714.0                  4.740606                     2.514313  \n",
       "2         1788391.0                 80.737277                     2.559482  \n",
       "3          386335.0                  0.000000                     0.000000  \n",
       "4          853064.0                 84.277163                     3.806768  "
      ]
     },
     "execution_count": 20,
     "metadata": {},
     "output_type": "execute_result"
    }
   ],
   "source": [
    "enron_df.head()"
   ]
  },
  {
   "cell_type": "code",
   "execution_count": 21,
   "metadata": {},
   "outputs": [
    {
     "data": {
      "image/png": "[encoded data removed]",
      "text/plain": [
       "<Figure size 432x288 with 1 Axes>"
      ]
     },
     "metadata": {
      "needs_background": "light"
     },
     "output_type": "display_data"
    }
   ],
   "source": [
    "# Graph 'salary_of_total_payment' and 'salary_of_total_stock_value' to salary\n",
    "\n",
    "plt.ticklabel_format(style = 'plain')\n",
    "plt.scatter(enron_df['salary'], enron_df['salary_of_total_payments'], color='blue')\n",
    "plt.scatter(enron_df['salary'], enron_df['salary_of_total_stock_value'], color='red')\n",
    "plt.xlabel('Salary')\n",
    "plt.ylabel('Of Total Payment / Of Total Stock Value')\n",
    "plt.show()"
   ]
  },
  {
   "cell_type": "code",
   "execution_count": 22,
   "metadata": {},
   "outputs": [],
   "source": [
    "# Mark as fraud for those with outrageous compensation\n",
    "def outlierCleaner(predictions, ages, net_worths):\n",
    "    \"\"\"\n",
    "        Clean away the 10% of points that have the largest\n",
    "        residual errors (difference between the prediction\n",
    "        and the actual net worth).\n",
    "\n",
    "        Return a list of tuples named cleaned_data where\n",
    "        each tuple is of the form (age, net_worth, error).\n",
    "    \"\"\"\n",
    "\n",
    "    cleaned_data = []\n",
    "\n",
    "    #print 'starting clean read data to tuple'\n",
    "    #print 'length:', len(predictions)\n",
    "    ### your code goes here\n",
    "    for i in range(0, len(predictions)):\n",
    "        age = ages[i][0]\n",
    "        net_worth = net_worths[i][0]\n",
    "        pred = predictions[i][0]\n",
    "        err = net_worth - pred\n",
    "\n",
    "        cleaned_data.append((age, net_worth, err))\n",
    "\n",
    "    #print 'length of cleaned_data before sort:', len(cleaned_data)\n",
    "    cleaned_data = sorted(cleaned_data, key=lambda x: x[2], reverse=True)[0:81]\n",
    "    #print cleaned_data[-1]\n",
    "\n",
    "    print('length of cleaned_data:', len(cleaned_data))\n",
    "    return cleaned_data"
   ]
  },
  {
   "cell_type": "code",
   "execution_count": 23,
   "metadata": {},
   "outputs": [],
   "source": [
    "enron_df['poi_ratio'] = 0.0\n",
    "enron_df['fraction_to_poi'] = 0.0\n",
    "enron_df['fraction_from_poi'] = 0.0\n",
    "enron_df.loc[(enron_df['from_messages'] + enron_df['to_messages']) != 0.0, 'poi_ratio'] = (enron_df['from_poi_to_this_person'] + enron_df['from_this_person_to_poi']) / (enron_df['from_messages'] + enron_df['to_messages']) * 100\n",
    "enron_df.loc[enron_df['from_messages'] != 0.0, 'fraction_to_poi'] = enron_df['from_this_person_to_poi'] / enron_df['from_messages'] * 100\n",
    "enron_df.loc[enron_df['to_messages'] != 0.0, 'fraction_from_poi']= enron_df['from_poi_to_this_person'] / enron_df['to_messages'] * 100"
   ]
  },
  {
   "cell_type": "code",
   "execution_count": 24,
   "metadata": {},
   "outputs": [
    {
     "data": {
      "image/png": "[encoded data removed]",
      "text/plain": [
       "<Figure size 432x288 with 1 Axes>"
      ]
     },
     "metadata": {
      "needs_background": "light"
     },
     "output_type": "display_data"
    }
   ],
   "source": [
    " # Graph 'fraction_to_poi' and 'fraction_from_poi' to salary\n",
    "plt.scatter(enron_df['salary'], enron_df['fraction_to_poi'], color='blue')\n",
    "plt.scatter(enron_df['salary'], enron_df['fraction_from_poi'], color='red')\n",
    "plt.xlabel('Salary')\n",
    "plt.ylabel('Fraction')\n",
    "plt.show()"
   ]
  },
  {
   "cell_type": "code",
   "execution_count": 25,
   "metadata": {},
   "outputs": [
    {
     "name": "stdout",
     "output_type": "stream",
     "text": [
      "['exercised_stock_options', 'salary', 'to_messages', 'total_payments', 'bonus', 'total_stock_value', 'expenses', 'from_poi_to_this_person', 'from_messages', 'other', 'from_this_person_to_poi', 'poi', 'shared_receipt_with_poi', 'restricted_stock', 'salary_of_total_payments', 'salary_of_total_stock_value', 'poi_ratio', 'fraction_to_poi', 'fraction_from_poi']\n",
      "['exercised_stock_options' 'salary' 'to_messages' 'total_payments' 'bonus'\n",
      " 'total_stock_value' 'expenses' 'from_poi_to_this_person' 'from_messages'\n",
      " 'other' 'from_this_person_to_poi' 'poi' 'shared_receipt_with_poi'\n",
      " 'restricted_stock' 'salary_of_total_payments'\n",
      " 'salary_of_total_stock_value' 'poi_ratio' 'fraction_to_poi'\n",
      " 'fraction_from_poi']\n"
     ]
    }
   ],
   "source": [
    "# move 'poi' to the first column\n",
    "cols = enron_df.columns.tolist()\n",
    "#print cols\n",
    "cols = cols[7:8] + cols[:7] + cols[8:]\n",
    "print(cols)\n",
    "enron_df = enron_df[cols]\n",
    "print(enron_df.columns.values)"
   ]
  },
  {
   "cell_type": "code",
   "execution_count": 26,
   "metadata": {},
   "outputs": [
    {
     "data": {
      "text/plain": [
       "array(['exercised_stock_options', 'salary', 'to_messages',\n",
       "       'total_payments', 'bonus', 'total_stock_value', 'expenses',\n",
       "       'from_poi_to_this_person', 'from_messages', 'other',\n",
       "       'from_this_person_to_poi', 'poi', 'shared_receipt_with_poi',\n",
       "       'restricted_stock', 'salary_of_total_payments',\n",
       "       'salary_of_total_stock_value', 'poi_ratio', 'fraction_to_poi',\n",
       "       'fraction_from_poi'], dtype=object)"
      ]
     },
     "execution_count": 26,
     "metadata": {},
     "output_type": "execute_result"
    }
   ],
   "source": [
    "enron_df.columns.values"
   ]
  },
  {
   "cell_type": "code",
   "execution_count": 27,
   "metadata": {},
   "outputs": [
    {
     "data": {
      "text/html": [
       "<div>\n",
       "<style scoped>\n",
       "    .dataframe tbody tr th:only-of-type {\n",
       "        vertical-align: middle;\n",
       "    }\n",
       "\n",
       "    .dataframe tbody tr th {\n",
       "        vertical-align: top;\n",
       "    }\n",
       "\n",
       "    .dataframe thead th {\n",
       "        text-align: right;\n",
       "    }\n",
       "</style>\n",
       "<table border=\"1\" class=\"dataframe\">\n",
       "  <thead>\n",
       "    <tr style=\"text-align: right;\">\n",
       "      <th></th>\n",
       "      <th>exercised_stock_options</th>\n",
       "      <th>salary</th>\n",
       "      <th>to_messages</th>\n",
       "      <th>total_payments</th>\n",
       "      <th>bonus</th>\n",
       "      <th>total_stock_value</th>\n",
       "      <th>expenses</th>\n",
       "      <th>from_poi_to_this_person</th>\n",
       "      <th>from_messages</th>\n",
       "      <th>other</th>\n",
       "      <th>from_this_person_to_poi</th>\n",
       "      <th>poi</th>\n",
       "      <th>shared_receipt_with_poi</th>\n",
       "      <th>restricted_stock</th>\n",
       "      <th>salary_of_total_payments</th>\n",
       "      <th>salary_of_total_stock_value</th>\n",
       "      <th>poi_ratio</th>\n",
       "      <th>fraction_to_poi</th>\n",
       "      <th>fraction_from_poi</th>\n",
       "    </tr>\n",
       "  </thead>\n",
       "  <tbody>\n",
       "    <tr>\n",
       "      <th>0</th>\n",
       "      <td>0.0</td>\n",
       "      <td>365788.0</td>\n",
       "      <td>807.0</td>\n",
       "      <td>1061827.0</td>\n",
       "      <td>600000.0</td>\n",
       "      <td>585062.0</td>\n",
       "      <td>94299.0</td>\n",
       "      <td>38.0</td>\n",
       "      <td>29.0</td>\n",
       "      <td>1740.0</td>\n",
       "      <td>1.0</td>\n",
       "      <td>False</td>\n",
       "      <td>702.0</td>\n",
       "      <td>585062.0</td>\n",
       "      <td>34.448926</td>\n",
       "      <td>62.521237</td>\n",
       "      <td>4.665072</td>\n",
       "      <td>3.448276</td>\n",
       "      <td>4.708798</td>\n",
       "    </tr>\n",
       "    <tr>\n",
       "      <th>1</th>\n",
       "      <td>6680544.0</td>\n",
       "      <td>267102.0</td>\n",
       "      <td>0.0</td>\n",
       "      <td>5634343.0</td>\n",
       "      <td>1200000.0</td>\n",
       "      <td>10623258.0</td>\n",
       "      <td>11200.0</td>\n",
       "      <td>0.0</td>\n",
       "      <td>0.0</td>\n",
       "      <td>2660303.0</td>\n",
       "      <td>0.0</td>\n",
       "      <td>False</td>\n",
       "      <td>0.0</td>\n",
       "      <td>3942714.0</td>\n",
       "      <td>4.740606</td>\n",
       "      <td>2.514313</td>\n",
       "      <td>0.000000</td>\n",
       "      <td>0.000000</td>\n",
       "      <td>0.000000</td>\n",
       "    </tr>\n",
       "    <tr>\n",
       "      <th>2</th>\n",
       "      <td>4890344.0</td>\n",
       "      <td>170941.0</td>\n",
       "      <td>0.0</td>\n",
       "      <td>211725.0</td>\n",
       "      <td>350000.0</td>\n",
       "      <td>6678735.0</td>\n",
       "      <td>78552.0</td>\n",
       "      <td>0.0</td>\n",
       "      <td>0.0</td>\n",
       "      <td>12961.0</td>\n",
       "      <td>0.0</td>\n",
       "      <td>False</td>\n",
       "      <td>0.0</td>\n",
       "      <td>1788391.0</td>\n",
       "      <td>80.737277</td>\n",
       "      <td>2.559482</td>\n",
       "      <td>0.000000</td>\n",
       "      <td>0.000000</td>\n",
       "      <td>0.000000</td>\n",
       "    </tr>\n",
       "    <tr>\n",
       "      <th>3</th>\n",
       "      <td>651850.0</td>\n",
       "      <td>0.0</td>\n",
       "      <td>764.0</td>\n",
       "      <td>0.0</td>\n",
       "      <td>0.0</td>\n",
       "      <td>1038185.0</td>\n",
       "      <td>0.0</td>\n",
       "      <td>10.0</td>\n",
       "      <td>12.0</td>\n",
       "      <td>0.0</td>\n",
       "      <td>0.0</td>\n",
       "      <td>False</td>\n",
       "      <td>58.0</td>\n",
       "      <td>386335.0</td>\n",
       "      <td>0.000000</td>\n",
       "      <td>0.000000</td>\n",
       "      <td>1.288660</td>\n",
       "      <td>0.000000</td>\n",
       "      <td>1.308901</td>\n",
       "    </tr>\n",
       "    <tr>\n",
       "      <th>4</th>\n",
       "      <td>5538001.0</td>\n",
       "      <td>243293.0</td>\n",
       "      <td>1045.0</td>\n",
       "      <td>288682.0</td>\n",
       "      <td>1500000.0</td>\n",
       "      <td>6391065.0</td>\n",
       "      <td>34039.0</td>\n",
       "      <td>32.0</td>\n",
       "      <td>32.0</td>\n",
       "      <td>11350.0</td>\n",
       "      <td>21.0</td>\n",
       "      <td>True</td>\n",
       "      <td>1035.0</td>\n",
       "      <td>853064.0</td>\n",
       "      <td>84.277163</td>\n",
       "      <td>3.806768</td>\n",
       "      <td>4.921077</td>\n",
       "      <td>65.625000</td>\n",
       "      <td>3.062201</td>\n",
       "    </tr>\n",
       "  </tbody>\n",
       "</table>\n",
       "</div>"
      ],
      "text/plain": [
       "   exercised_stock_options    salary  to_messages  total_payments      bonus  \\\n",
       "0                      0.0  365788.0        807.0       1061827.0   600000.0   \n",
       "1                6680544.0  267102.0          0.0       5634343.0  1200000.0   \n",
       "2                4890344.0  170941.0          0.0        211725.0   350000.0   \n",
       "3                 651850.0       0.0        764.0             0.0        0.0   \n",
       "4                5538001.0  243293.0       1045.0        288682.0  1500000.0   \n",
       "\n",
       "   total_stock_value  expenses  from_poi_to_this_person  from_messages  \\\n",
       "0           585062.0   94299.0                     38.0           29.0   \n",
       "1         10623258.0   11200.0                      0.0            0.0   \n",
       "2          6678735.0   78552.0                      0.0            0.0   \n",
       "3          1038185.0       0.0                     10.0           12.0   \n",
       "4          6391065.0   34039.0                     32.0           32.0   \n",
       "\n",
       "       other  from_this_person_to_poi    poi  shared_receipt_with_poi  \\\n",
       "0     1740.0                      1.0  False                    702.0   \n",
       "1  2660303.0                      0.0  False                      0.0   \n",
       "2    12961.0                      0.0  False                      0.0   \n",
       "3        0.0                      0.0  False                     58.0   \n",
       "4    11350.0                     21.0   True                   1035.0   \n",
       "\n",
       "   restricted_stock  salary_of_total_payments  salary_of_total_stock_value  \\\n",
       "0          585062.0                 34.448926                    62.521237   \n",
       "1         3942714.0                  4.740606                     2.514313   \n",
       "2         1788391.0                 80.737277                     2.559482   \n",
       "3          386335.0                  0.000000                     0.000000   \n",
       "4          853064.0                 84.277163                     3.806768   \n",
       "\n",
       "   poi_ratio  fraction_to_poi  fraction_from_poi  \n",
       "0   4.665072         3.448276           4.708798  \n",
       "1   0.000000         0.000000           0.000000  \n",
       "2   0.000000         0.000000           0.000000  \n",
       "3   1.288660         0.000000           1.308901  \n",
       "4   4.921077        65.625000           3.062201  "
      ]
     },
     "execution_count": 27,
     "metadata": {},
     "output_type": "execute_result"
    }
   ],
   "source": [
    "enron_df.head()"
   ]
  },
  {
   "cell_type": "code",
   "execution_count": 28,
   "metadata": {},
   "outputs": [
    {
     "name": "stdout",
     "output_type": "stream",
     "text": [
      "['exercised_stock_options' 'salary' 'to_messages' 'total_payments' 'bonus'\n",
      " 'total_stock_value' 'expenses' 'from_poi_to_this_person' 'from_messages'\n",
      " 'other' 'from_this_person_to_poi' 'shared_receipt_with_poi'\n",
      " 'restricted_stock' 'salary_of_total_payments'\n",
      " 'salary_of_total_stock_value' 'poi_ratio' 'fraction_to_poi'\n",
      " 'fraction_from_poi']\n"
     ]
    }
   ],
   "source": [
    "predictors = enron_df.drop('poi', axis=1).columns.values\n",
    "print(predictors)"
   ]
  },
  {
   "cell_type": "code",
   "execution_count": 29,
   "metadata": {},
   "outputs": [
    {
     "data": {
      "image/png": "[encoded data removed]",
      "text/plain": [
       "<Figure size 432x288 with 1 Axes>"
      ]
     },
     "metadata": {
      "needs_background": "light"
     },
     "output_type": "display_data"
    }
   ],
   "source": [
    "# Feature importances By SelectKBest\n",
    "\n",
    "import numpy as np\n",
    "from sklearn.feature_selection import SelectKBest, f_classif\n",
    "from sklearn.model_selection import KFold\n",
    "%matplotlib inline\n",
    "import matplotlib.pyplot as plt\n",
    "\n",
    "# Perform feature selection\n",
    "selector = SelectKBest(f_classif, k=5)\n",
    "selector.fit(enron_df[predictors], enron_df[\"poi\"])\n",
    "\n",
    "# Get the raw p-values for each feature, and transform from p-values into scores\n",
    "scores = -np.log10(selector.pvalues_)\n",
    "\n",
    "indices = np.argsort(scores)[::-1]\n",
    "\n",
    "sorted_important_features=[]\n",
    "for i in indices:\n",
    "    sorted_important_features.append(predictors[i])\n",
    "\n",
    "# Plot the scores.  \n",
    "plt.figure()\n",
    "plt.title(\"Feature Importances\")\n",
    "plt.bar(range(np.size(predictors)), scores[indices],\n",
    "       color=\"seagreen\", yerr=np.std([indices]), align=\"center\")\n",
    "plt.xticks(range(np.size(predictors)), sorted_important_features, rotation='vertical')\n",
    "\n",
    "plt.xlim([-1, np.size(predictors)])\n",
    "plt.show()"
   ]
  },
  {
   "cell_type": "code",
   "execution_count": 30,
   "metadata": {},
   "outputs": [],
   "source": [
    "# 13 features\n",
    "predictors = ['bonus', 'exercised_stock_options', 'expenses','from_poi_to_this_person', 'from_this_person_to_poi',\n",
    " 'restricted_stock', 'salary', 'shared_receipt_with_poi','total_stock_value', 'poi_ratio', 'fraction_to_poi',\n",
    " 'fraction_from_poi', 'salary_of_total_payments']\n",
    "\n",
    "# 8 features\n",
    "predictors_8 = ['bonus', 'exercised_stock_options', 'total_stock_value', 'fraction_to_poi',  'expenses', 'salary',\n",
    "              'shared_receipt_with_poi', 'poi_ratio' ]\n",
    "\n",
    "# 4 features\n",
    "predictors_4 = ['bonus', 'exercised_stock_options', 'total_stock_value', 'fraction_to_poi']"
   ]
  },
  {
   "cell_type": "code",
   "execution_count": 33,
   "metadata": {},
   "outputs": [
    {
     "name": "stdout",
     "output_type": "stream",
     "text": [
      "[0 0 0 0 1 0 0 0 0 0 0 0 0 0 0 0 1 0 0 0 0 0 0 0 0 0 0 0 0 0 1 0 0 0 0 0 0\n",
      " 0 0 0 1 0 0 0 0 0 0 0 0 0 0 0 1 0 0 0 0 0 0 1 0 0 0 0 1 0 0 0 0 0 0 0 0 0\n",
      " 0 1 0 0 0 0 0 1 0 0 0 1 0 1 1 0 0 0 0 0 1 0 0 0 0 0 0 0 0 0 0 0 0 0 0 0 0\n",
      " 0 0 0 0 0 0 0 0 0 0 0 0 1 1 0 0 0 0 0 0 0 0 0 1 0 0 0 0 0 0 1 0 0 1]\n",
      "[[6.00000000e+05 0.00000000e+00 9.42990000e+04 ... 3.44827586e+00\n",
      "  4.70879802e+00 3.44489262e+01]\n",
      " [1.20000000e+06 6.68054400e+06 1.12000000e+04 ... 0.00000000e+00\n",
      "  0.00000000e+00 4.74060596e+00]\n",
      " [3.50000000e+05 4.89034400e+06 7.85520000e+04 ... 0.00000000e+00\n",
      "  0.00000000e+00 8.07372771e+01]\n",
      " ...\n",
      " [6.00000000e+05 3.18125000e+06 0.00000000e+00 ... 0.00000000e+00\n",
      "  0.00000000e+00 2.42722596e+01]\n",
      " [8.00000000e+05 7.65920000e+05 9.62680000e+04 ... 5.00000000e+01\n",
      "  2.17341040e+01 3.18124829e+01]\n",
      " [6.00000000e+05 3.84728000e+05 1.25978000e+05 ... 3.75000000e+01\n",
      "  5.95647194e+00 2.16127060e+01]]\n"
     ]
    }
   ],
   "source": [
    "# Split the data at first on training and test data. We will use Stratified Shuffle Split due to small dataset\n",
    "labels = enron_df['poi'].copy(deep=True).astype(int).to_numpy()\n",
    "\n",
    "#features = enron_df['total_payments', 'total_stock_value', 'poi_ratio', 'fraction_to_poi', 'fraction_from_poi'].as_matrix()\n",
    "#features = (enron_df.drop('poi', axis=1)).fillna(0).copy(deep=True).as_matrix()\n",
    "features = (enron_df[predictors]).fillna(0).copy(deep=True).to_numpy()\n",
    "\n",
    "print(labels)\n",
    "print(features)"
   ]
  },
  {
   "cell_type": "code",
   "execution_count": null,
   "metadata": {},
   "outputs": [],
   "source": [
    "\n",
    "# # Scale feature 'salary'\n",
    "# scaler = sklearn.preprocessing.MinMaxScaler(feature_range=(0, 100), copy=True)\n",
    "# salary_scaled = scaler.fit_transform(enron_df['salary'])"
   ]
  },
  {
   "cell_type": "code",
   "execution_count": 39,
   "metadata": {},
   "outputs": [],
   "source": [
    "import sklearn.preprocessing\n",
    "\n",
    "# Assuming enron_df['salary'] contains the salary data\n",
    "# Convert the salary data to a 2-dimensional array\n",
    "salary_data = np.array(enron_df['salary']).reshape(-1, 1)\n",
    "\n",
    "# Scale feature 'salary'\n",
    "scaler = sklearn.preprocessing.MinMaxScaler(feature_range=(0, 100), copy=True)\n",
    "salary_scaled = scaler.fit_transform(salary_data)\n",
    "\n",
    "# If you want to convert salary_scaled back to a 1-dimensional array\n",
    "salary_scaled = salary_scaled.flatten()\n",
    "\n",
    "# Now, salary_scaled contains the scaled salary values\n",
    "\n"
   ]
  },
  {
   "cell_type": "markdown",
   "metadata": {},
   "source": [
    "Pick and Tune an Algorithm\n",
    "Try out varity of classifiers (related mini-project: Lessons 1-3)\n",
    "Try a varity of classifier. Please name your classifier clf for easy export below. Note that if you want to do PCA or other multi-stage operations, you'll need to use Pipelines. For more info: http://scikit-learn.org/stable/modules/pipeline.html\n",
    "At least 2 different algorithms are attempted and their performance is compared, with the more performant one used in the final analysis."
   ]
  },
  {
   "cell_type": "code",
   "execution_count": 48,
   "metadata": {},
   "outputs": [
    {
     "name": "stdout",
     "output_type": "stream",
     "text": [
      "[0.10344828 0.13793103 0.10344828 0.89655172 0.13793103]\n",
      "GaussianNB mean score: 0.27586206896551724\n"
     ]
    }
   ],
   "source": [
    "# Try GaussianNB\n",
    "from sklearn.naive_bayes import GaussianNB\n",
    "gnb_clf = GaussianNB()\n",
    "scores = sklearn.model_selection.cross_val_score(gnb_clf, enron_df[predictors_8], labels)\n",
    "print(scores)\n",
    "print('GaussianNB mean score:', scores.mean())"
   ]
  },
  {
   "cell_type": "code",
   "execution_count": 46,
   "metadata": {},
   "outputs": [
    {
     "name": "stdout",
     "output_type": "stream",
     "text": [
      "[0.89655172 0.89655172 0.86206897 0.86206897 0.89655172]\n",
      "SVC: 0.8827586206896552\n"
     ]
    }
   ],
   "source": [
    "# Try SVC\n",
    "from sklearn.svm import SVC\n",
    "svc_clf = SVC()\n",
    "scores = sklearn.model_selection.cross_val_score(svc_clf, enron_df[predictors_8], labels)\n",
    "print(scores)\n",
    "print('SVC:', scores.mean())"
   ]
  },
  {
   "cell_type": "code",
   "execution_count": 50,
   "metadata": {},
   "outputs": [
    {
     "name": "stdout",
     "output_type": "stream",
     "text": [
      "[0.89655172 0.89655172 0.86206897 0.82758621 0.86206897]\n",
      "ExtraTreesClassifier mean score: 0.8689655172413792\n"
     ]
    }
   ],
   "source": [
    "# Try ExtraTreesClassifier\n",
    "from sklearn.ensemble import ExtraTreesClassifier\n",
    "erf_clf = ExtraTreesClassifier(n_estimators=10, max_depth=None, min_samples_split=2, random_state=0)\n",
    "scores = sklearn.model_selection.cross_val_score(erf_clf, enron_df[predictors_8], labels)\n",
    "print(scores)\n",
    "print('ExtraTreesClassifier mean score:', scores.mean())"
   ]
  },
  {
   "cell_type": "code",
   "execution_count": 51,
   "metadata": {},
   "outputs": [
    {
     "name": "stdout",
     "output_type": "stream",
     "text": [
      "[0.86206897 0.89655172 0.86206897 0.86206897 0.79310345]\n",
      "RandomForestClassifier mean score: 0.8551724137931034\n"
     ]
    }
   ],
   "source": [
    "\n",
    "# Try RandomForestClassifier\n",
    "from sklearn.ensemble import RandomForestClassifier\n",
    "rf_clf = RandomForestClassifier(n_estimators=10)\n",
    "scores = sklearn.model_selection.cross_val_score(rf_clf, enron_df[predictors_8], labels)\n",
    "print(scores)\n",
    "print('RandomForestClassifier mean score:', scores.mean())"
   ]
  },
  {
   "cell_type": "code",
   "execution_count": 52,
   "metadata": {},
   "outputs": [
    {
     "name": "stdout",
     "output_type": "stream",
     "text": [
      "[0.89655172 0.86206897 0.89655172 0.82758621 0.75862069]\n",
      "AdaBoostClassifier mean score: 0.8482758620689654\n"
     ]
    }
   ],
   "source": [
    "# Try AdaBoostClassifier\n",
    "from sklearn.ensemble import AdaBoostClassifier\n",
    "ab_clf = AdaBoostClassifier(n_estimators=100)\n",
    "scores = sklearn.model_selection.cross_val_score(ab_clf, enron_df[predictors_8], labels)\n",
    "print(scores)\n",
    "print('AdaBoostClassifier mean score:', scores.mean())"
   ]
  },
  {
   "cell_type": "code",
   "execution_count": 53,
   "metadata": {},
   "outputs": [
    {
     "name": "stdout",
     "output_type": "stream",
     "text": [
      "[0.68965517 0.72413793 0.75862069 0.68965517 0.79310345]\n",
      "LogisticRegression mean score: 0.7310344827586207\n"
     ]
    }
   ],
   "source": [
    "# Try Logistic Regression\n",
    "from sklearn.linear_model import LogisticRegression\n",
    "lreg_clf = LogisticRegression()\n",
    "scores = sklearn.model_selection.cross_val_score(lreg_clf, enron_df[predictors_8], labels)\n",
    "print(scores) \n",
    "print('LogisticRegression mean score:', scores.mean())"
   ]
  },
  {
   "cell_type": "code",
   "execution_count": 54,
   "metadata": {},
   "outputs": [
    {
     "name": "stdout",
     "output_type": "stream",
     "text": [
      "[0.82758621 0.72413793 0.89655172 0.44827586 0.82758621]\n",
      "LinearSVC mean score: 0.7448275862068965\n"
     ]
    },
    {
     "name": "stderr",
     "output_type": "stream",
     "text": [
      "/Users/apple/.pyenv/versions/3.9.7/lib/python3.9/site-packages/sklearn/svm/_base.py:1244: ConvergenceWarning: Liblinear failed to converge, increase the number of iterations.\n",
      "  warnings.warn(\n",
      "/Users/apple/.pyenv/versions/3.9.7/lib/python3.9/site-packages/sklearn/svm/_base.py:1244: ConvergenceWarning: Liblinear failed to converge, increase the number of iterations.\n",
      "  warnings.warn(\n",
      "/Users/apple/.pyenv/versions/3.9.7/lib/python3.9/site-packages/sklearn/svm/_base.py:1244: ConvergenceWarning: Liblinear failed to converge, increase the number of iterations.\n",
      "  warnings.warn(\n",
      "/Users/apple/.pyenv/versions/3.9.7/lib/python3.9/site-packages/sklearn/svm/_base.py:1244: ConvergenceWarning: Liblinear failed to converge, increase the number of iterations.\n",
      "  warnings.warn(\n",
      "/Users/apple/.pyenv/versions/3.9.7/lib/python3.9/site-packages/sklearn/svm/_base.py:1244: ConvergenceWarning: Liblinear failed to converge, increase the number of iterations.\n",
      "  warnings.warn(\n"
     ]
    }
   ],
   "source": [
    "# Try LinearSVC\n",
    "from sklearn.svm import LinearSVC\n",
    "lsvc_clf = LinearSVC()\n",
    "scores = sklearn.model_selection.cross_val_score(lsvc_clf, enron_df[predictors_8], labels)\n",
    "print(scores)\n",
    "print('LinearSVC mean score:', scores.mean())"
   ]
  },
  {
   "cell_type": "markdown",
   "metadata": {},
   "source": [
    "Comparing Classifiers based on cross validation scores:\n",
    "\n",
    "1st Tier: SVC, RandomForestClassifier\n",
    "\n",
    "2nd Tier: GaussianNB, ExtraTreesClassifier, AdaBoostClassifier\n",
    "\n",
    "3st Tier: LogisticRegression, LinearSVC"
   ]
  },
  {
   "cell_type": "markdown",
   "metadata": {},
   "source": [
    "Univariate feature selection with F-test for feature scoring\n",
    "using the default selection function: the 10% most significant features"
   ]
  },
  {
   "cell_type": "code",
   "execution_count": 55,
   "metadata": {},
   "outputs": [
    {
     "data": {
      "text/plain": [
       "<BarContainer object of 13 artists>"
      ]
     },
     "execution_count": 55,
     "metadata": {},
     "output_type": "execute_result"
    },
    {
     "data": {
      "image/png": "[encoded data removed]",
      "text/plain": [
       "<Figure size 432x288 with 1 Axes>"
      ]
     },
     "metadata": {
      "needs_background": "light"
     },
     "output_type": "display_data"
    }
   ],
   "source": [
    "# Univariate feature selection with SelectPercentile\n",
    "import matplotlib.pyplot as plt\n",
    "from sklearn.feature_selection import SelectPercentile, f_classif\n",
    "\n",
    "selector = SelectPercentile(f_classif, percentile=10)\n",
    "selector.fit(features, labels)\n",
    "scores = -np.log10(selector.pvalues_)\n",
    "scores /= scores.max()\n",
    "\n",
    "X_indices = np.arange(features.shape[-1])\n",
    "plt.bar(X_indices - .45, scores, width=.2,\n",
    "        label=r'Univariate score ($-Log(p_{value})$)', color='darkorange')"
   ]
  },
  {
   "cell_type": "code",
   "execution_count": 56,
   "metadata": {},
   "outputs": [
    {
     "name": "stdout",
     "output_type": "stream",
     "text": [
      "Fitting 5 folds for each of 18 candidates, totalling 90 fits\n",
      "[CV 1/5; 1/18] START features__pca__n_components=1, features__univ_select__k=1, svm__C=0.1\n"
     ]
    }
   ],
   "source": [
    "# use FeatureUnion to combine features obtained by PCA and univariate selection ?????\n",
    "\n",
    "from sklearn.pipeline import Pipeline, FeatureUnion\n",
    "from sklearn.model_selection import GridSearchCV\n",
    "from sklearn.svm import SVC\n",
    "from sklearn.decomposition import PCA\n",
    "from sklearn.feature_selection import SelectKBest\n",
    "\n",
    "# This dataset is way too high-dimensional. Better do PCA:\n",
    "pca = PCA(n_components=8)\n",
    "\n",
    "# Maybe some original features where good, too?\n",
    "selection = SelectKBest(k=4)\n",
    "\n",
    "# Build estimator from PCA and Univariate selection:\n",
    "combined_features = FeatureUnion([(\"pca\", pca), (\"univ_select\", selection)])\n",
    "\n",
    "# Use combined features to transform dataset:\n",
    "X_features = combined_features.fit(features, labels).transform(features)\n",
    "\n",
    "svm = SVC(kernel=\"linear\")\n",
    "\n",
    "# Do grid search over k, n_components and C:\n",
    "pipeline = Pipeline([(\"features\", combined_features), (\"svm\", svm)])\n",
    "\n",
    "param_grid = dict(features__pca__n_components=[1, 2, 3],\n",
    "                  features__univ_select__k=[1, 2],\n",
    "                  svm__C=[0.1, 1, 10])\n",
    "\n",
    "grid_search = GridSearchCV(pipeline, param_grid=param_grid, verbose=10)\n",
    "grid_search.fit(features, labels)\n",
    "print(grid_search.best_estimator_)"
   ]
  },
  {
   "cell_type": "markdown",
   "metadata": {},
   "source": [
    "The pipeline provides a handy tool called the FeatureUnion which allows the results of multiple feature selection and extraction procedures to be combined into a larger dataset on which a model can be trained. Importantly, all the feature extraction and the feature union occurs within each fold of the cross validation procedure. The pipeline is then evaluated using 10-fold cross validation."
   ]
  },
  {
   "cell_type": "code",
   "execution_count": null,
   "metadata": {},
   "outputs": [],
   "source": [
    "# Create a pipeline that extracts features from the data using PCA and SelectKBest then creates a model_SVC\n",
    "\n",
    "from pandas import read_csv\n",
    "from sklearn.model_selection import KFold\n",
    "from sklearn.model_selection import cross_val_score\n",
    "from sklearn.pipeline import Pipeline\n",
    "from sklearn.pipeline import FeatureUnion\n",
    "from sklearn.linear_model import LogisticRegression\n",
    "from sklearn.decomposition import PCA\n",
    "from sklearn.feature_selection import SelectKBest\n",
    "from sklearn.svm import SVC\n",
    "from sklearn.model_selection import GridSearchCV\n",
    "\n",
    "# create feature union\n",
    "features_pipeline = []\n",
    "features_pipeline.append(('pca', PCA(n_components=4)))\n",
    "features_pipeline.append(('select_best', SelectKBest(k=8)))\n",
    "feature_union = FeatureUnion(features_pipeline)\n",
    "\n",
    "# create pipeline for rbfSVC\n",
    "estimators = []\n",
    "estimators.append(('feature_union', feature_union))\n",
    "#estimators.append(('logistic', LogisticRegression()))\n",
    "estimators.append(('svc', SVC(kernel='rbf', class_weight='balanced')))\n",
    "model_svc = Pipeline(estimators)\n",
    "\n",
    "# find best fitting parameter\n",
    "param_grid = {\n",
    "            'svc__C': [1e3, 5e3, 1e4, 5e4, 1e5],\n",
    "            'svc__gamma': [0.0001, 0.0005, 0.001, 0.005, 0.01, 0.1 ],\n",
    "            'svc__degree': [1, 2, 3, 4, 5]\n",
    "}\n",
    "\n",
    "grid_svc = GridSearchCV(model_svc, param_grid)\n",
    "grid_svc = grid_svc.fit(features, labels)\n",
    "print(grid_svc.best_estimator_)\n",
    "\n",
    "# best fitting svc_clf\n",
    "best_svc_pipe = grid_svc.best_estimator_ \n",
    "\n",
    "# evaluate pipeline for rbfSVC\n",
    "seed = 7\n",
    "kfold = KFold(n_splits=10, random_state=seed)\n",
    "scores_svc = cross_val_score(model_svc, enron_df[predictors], labels, cv=kfold)\n",
    "print('rbfSVC mean score:', scores_svc.mean())\n"
   ]
  },
  {
   "cell_type": "code",
   "execution_count": null,
   "metadata": {},
   "outputs": [],
   "source": [
    "# create pipeline for RandomForest\n",
    "\n",
    "from sklearn.ensemble import RandomForestClassifier\n",
    "\n",
    "estimators = []\n",
    "estimators.append(('feature_union', feature_union))\n",
    "#estimators.append(('logistic', LogisticRegression()))\n",
    "estimators.append(('RandomForest', RandomForestClassifier()))\n",
    "model_rf = Pipeline(estimators)\n",
    "\n",
    "#print sorted(model_rf.get_params().keys())\n",
    "#['RandomForest', 'RandomForest__bootstrap', 'RandomForest__class_weight', 'RandomForest__criterion', \n",
    "#'RandomForest__max_depth', 'RandomForest__max_features', 'RandomForest__max_leaf_nodes', \n",
    "#'RandomForest__min_impurity_split', 'RandomForest__min_samples_leaf', 'RandomForest__min_samples_split', \n",
    "#'RandomForest__min_weight_fraction_leaf', 'RandomForest__n_estimators', 'RandomForest__n_jobs', \n",
    "#'RandomForest__oob_score', 'RandomForest__random_state', 'RandomForest__verbose', 'RandomForest__warm_start', \n",
    "#'feature_union', 'feature_union__n_jobs', 'feature_union__pca', 'feature_union__pca__copy', \n",
    "#'feature_union__pca__iterated_power', 'feature_union__pca__n_components', 'feature_union__pca__random_state', \n",
    "#'feature_union__pca__svd_solver', 'feature_union__pca__tol', 'feature_union__pca__whiten', \n",
    "#'feature_union__select_best', 'feature_union__select_best__k', 'feature_union__select_best__score_func', \n",
    "#'feature_union__transformer_list', 'feature_union__transformer_weights', 'steps']\n",
    "\n",
    "\n",
    "# find best fitting parameter\n",
    "param_grid = {'RandomForest__n_estimators': [10,20,30,40,50],\n",
    "               'RandomForest__min_samples_split' :[2,3,4,5],\n",
    "               'RandomForest__min_samples_leaf' : [1,2,3]\n",
    "             }\n",
    "\n",
    "grid_rf = GridSearchCV(model_rf, param_grid)\n",
    "grid_rf = grid_rf.fit(features, labels)\n",
    "print(grid_rf.best_estimator_)\n",
    "\n",
    "# best fitting svc_clf\n",
    "best_rf_pipe = grid_rf.best_estimator_ \n",
    "\n",
    "\n",
    "# evaluate pipeline for rf\n",
    "seed = 7\n",
    "kfold = KFold(n_splits=10, random_state=seed)\n",
    "scores_rf = cross_val_score(model_rf, enron_df[predictors], labels, cv=kfold)\n",
    "print('RandomForest mean score:', scores_rf.mean())"
   ]
  },
  {
   "cell_type": "markdown",
   "metadata": {},
   "source": [
    "Tune the algorithm (related mini-project: Lessons 2, 3, 13)\n",
    "At least one important parameter tuned with at least 3 settings investigated systematically, or any of the following are true:\n",
    "GridSearchCV used for parameter tuning,\n",
    "\n",
    "Several parameters tuned,\n",
    "\n",
    "Parameter tuning incorporated into algorithm selection (i.e. parameters tuned for more than one algorithm, and best algorithm-tune combination selected for final analysis)."
   ]
  },
  {
   "cell_type": "code",
   "execution_count": null,
   "metadata": {},
   "outputs": [],
   "source": [
    "# Find best fit param for rbf SVM with PCA and cross validation\n",
    "\n",
    "from sklearn.decomposition import PCA\n",
    "from sklearn.model_selection import GridSearchCV\n",
    "\n",
    "# Compute a PCA\n",
    "n_comp = 4\n",
    "pca = PCA(n_components=n_comp).fit(features)\n",
    "features_transformed = pca.transform(features)\n",
    "features_pca = pca.components_\n",
    "print('features_transformed[0]:', features_transformed[0])\n",
    "print('features_pca[0]:', features_pca[0])\n",
    "\n",
    "# Train a SVM classification model\n",
    "param_grid = {\n",
    "            'C': [1e3, 5e3, 1e4, 5e4, 1e5],\n",
    "            'gamma': [0.0001, 0.0005, 0.001, 0.005, 0.01, 0.1 ],\n",
    "            'degree': [1, 2, 3, 4, 5]\n",
    "}\n",
    "clf = GridSearchCV(SVC(kernel='rbf', class_weight='balanced'), param_grid)\n",
    "clf = clf.fit(features_transformed, labels)\n",
    "pred_svc = clf.predict(features_transformed)\n",
    "\n",
    "print(clf.best_estimator_)\n",
    "best_svc_clf = clf.best_estimator_ \n",
    "\n",
    "\n",
    "scores = sklearn.model_selection.cross_val_score(best_svc_clf, features, labels)\n",
    "print('SVC after PCA mean score:', scores.mean())\n",
    "\n",
    "# n_comp, Mean score\n",
    "# 8, 0.887411347518\n",
    "# 4, 0.887411347518\n",
    "\n",
    "pred_svc = SVC(C=1000.0, cache_size=200, class_weight='balanced', coef0=0.0,\n",
    "  decision_function_shape=None, degree=1, gamma=0.0001, kernel='rbf',\n",
    "  max_iter=-1, probability=False, random_state=None, shrinking=True,\n",
    "  tol=0.001, verbose=False).fit(features_transformed, labels).predict(features_transformed)\n",
    "\n",
    "print(pred_svc)"
   ]
  },
  {
   "cell_type": "code",
   "execution_count": null,
   "metadata": {},
   "outputs": [],
   "source": [
    "# get the best fitting parameters for RandomForest\n",
    "#from sklearn.model_selection import KFold\n",
    "from sklearn.decomposition import PCA\n",
    "from sklearn.model_selection import GridSearchCV\n",
    "\n",
    "# Compute a PCA\n",
    "#n_comp = 8\n",
    "#pca = PCA(n_components=n_comp).fit(features)\n",
    "#features_pca = pca.transform(features)\n",
    "\n",
    "#cv = KFold(n_splits=5)\n",
    "\n",
    "parameters = {'n_estimators': [10,20,30,40,50],\n",
    "               'min_samples_split' :[2,3,4,5],\n",
    "               'min_samples_leaf' : [1,2,3]\n",
    "             }\n",
    "\n",
    "rf_clf = RandomForestClassifier()\n",
    "grid_obj = GridSearchCV(rf_clf, parameters)\n",
    "grid_fit = grid_obj.fit(features_pca, labels)\n",
    "\n",
    "best_rf_clf = grid_fit.best_estimator_ \n",
    "\n",
    "best_rf_clf.fit(features,labels)\n",
    "\n",
    "scores = sklearn.model_selection.cross_val_score(best_rf_clf, features, labels)\n",
    "print('RandomForest mean score:', scores.mean())"
   ]
  },
  {
   "cell_type": "markdown",
   "metadata": {},
   "source": [
    "Validation Strategy (related mini-project: Lesson 13)\n",
    "Performance of the final algorithm selected is assessed by splitting the data into training and testing sets or through the use of cross validation, noting the specific type of validation performed. Tune your classifier to achieve better than .3 precision and recall using our testing script.\n",
    "Check the tester.py script in the final project folder for details on the evaluation method, especially the test_classifier function. Because of the small size of the dataset, the script uses stratified shuffle split cross validation."
   ]
  },
  {
   "cell_type": "code",
   "execution_count": null,
   "metadata": {},
   "outputs": [],
   "source": [
    "# use features transformed by PCA\n",
    "from sklearn.model_selection import train_test_split\n",
    "features_train, features_test, labels_train, labels_test = train_test_split(features_transformed, labels, test_size=0.3, random_state=42)"
   ]
  },
  {
   "cell_type": "code",
   "execution_count": null,
   "metadata": {},
   "outputs": [],
   "source": [
    "from sklearn.metrics import accuracy_score\n",
    "from sklearn.metrics import precision_score\n",
    "from sklearn.metrics import recall_score"
   ]
  },
  {
   "cell_type": "code",
   "execution_count": null,
   "metadata": {},
   "outputs": [],
   "source": [
    "print(features_transformed[0])\n",
    "enron_df['poi'].tolist()[0]"
   ]
  },
  {
   "cell_type": "code",
   "execution_count": null,
   "metadata": {},
   "outputs": [],
   "source": [
    "# prepare parameters for dump_classifier \n",
    "\n",
    "from collections import OrderedDict\n",
    "\n",
    "# available choice for clf_dump: best_svc_grid, best_svc_clf, best_rf_grid, best_rf_clf\n",
    "clf_dump = best_svc_clf\n",
    "\n",
    "#features_list = list(df_imp_sub.columns.values)\n",
    "#features_list = predictors\n",
    "#features_list = ['salary', 'to_messages', 'salary_of_total_payments', 'total_payments', 'fraction_from_poi', \n",
    "#                 'bonus', 'poi_ratio', 'total_stock_value', 'expenses', 'fraction_to_poi', 'exercised_stock_options', \n",
    "#                 'from_messages', 'other', 'from_this_person_to_poi', 'salary_of_total_stock_value', \n",
    "#                 'shared_receipt_with_poi', 'restricted_stock', 'from_poi_to_this_person']\n",
    "\n",
    "features_list = ['comp_1', 'comp_2', 'comp_3', 'comp_4']\n",
    "poi_list = enron_df['poi'].tolist()\n",
    "\n",
    "#data = enron_df[features_list].fillna(0).to_dict(orient='records')\n",
    "#data_dict = enron_df.to_dict(orient='records')\n",
    "#data_dict = features_pca.to_dict()\n",
    "data_list = features_transformed\n",
    "\n",
    "my_dataset = {}\n",
    "\n",
    "i = 0\n",
    "for item in data_list:\n",
    "    elem_dict = OrderedDict()\n",
    "    elem_dict['poi'] = poi_list[i]\n",
    "    for j in range(len(features_list)):\n",
    "        elem_dict[features_list[j]] = data_list[i][j]    \n",
    "    my_dataset[i] = elem_dict\n",
    "    i += 1\n",
    "\n",
    "print(my_dataset[0])"
   ]
  },
  {
   "cell_type": "code",
   "execution_count": null,
   "metadata": {},
   "outputs": [],
   "source": [
    "pred = best_svc_clf.predict(features_test)\n",
    "acc = accuracy_score(labels_test, pred)\n",
    "\n",
    "print(\"Validating algorithm:\")\n",
    "print(\"accuracy after tuning = \", acc)\n",
    "\n",
    "# function for calculation ratio of true positives\n",
    "# out of all positives (true + false)\n",
    "print('precision = ', precision_score(labels_test,pred))\n",
    "\n",
    "# function for calculation ratio of true positives\n",
    "# out of true positives and false negatives\n",
    "print('recall = ', recall_score(labels_test,pred))"
   ]
  },
  {
   "cell_type": "markdown",
   "metadata": {},
   "source": [
    "Dump your classifier, dataset, and features_list for checking\n",
    "Dump your classifier, dataset, and features_list so anyone cancheck your results. You do not need to change anything below, but make sure that the version of poi_id.py that you submit can be run on its own and generates the necessary .pkl files for validating your results."
   ]
  },
  {
   "cell_type": "code",
   "execution_count": null,
   "metadata": {},
   "outputs": [],
   "source": [
    "pickle.dump(clf_dump, open(\"my_classifier.pkl\", \"w\") )\n",
    "pickle.dump(data_dict, open(\"my_dataset.pkl\", \"w\") )\n",
    "pickle.dump(features_list, open(\"my_feature_list.pkl\", \"w\") )"
   ]
  }
 ],
 "metadata": {
  "kernelspec": {
   "display_name": "Python 3",
   "language": "python",
   "name": "python3"
  },
  "language_info": {
   "codemirror_mode": {
    "name": "ipython",
    "version": 3
   },
   "file_extension": ".py",
   "mimetype": "text/x-python",
   "name": "python",
   "nbconvert_exporter": "python",
   "pygments_lexer": "ipython3",
   "version": "3.9.7"
  },
  "orig_nbformat": 4
 },
 "nbformat": 4,
 "nbformat_minor": 2
}
